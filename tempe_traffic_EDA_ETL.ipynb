{
 "cells": [
  {
   "cell_type": "markdown",
   "id": "69c5c6fc",
   "metadata": {},
   "source": [
    "# Traffic Analysis Tempe '2012 - 2020' EDA Process (In Progress)"
   ]
  },
  {
   "cell_type": "code",
   "execution_count": 76,
   "id": "5d283de2",
   "metadata": {
    "scrolled": true
   },
   "outputs": [
    {
     "name": "stdout",
     "output_type": "stream",
     "text": [
      "<class 'pandas.core.frame.DataFrame'>\n",
      "RangeIndex: 39917 entries, 0 to 39916\n",
      "Data columns (total 35 columns):\n",
      " #   Column               Non-Null Count  Dtype  \n",
      "---  ------               --------------  -----  \n",
      " 0   X                    39779 non-null  float64\n",
      " 1   Y                    39779 non-null  float64\n",
      " 2   OBJECTID             39917 non-null  int64  \n",
      " 3   Incidentid           39917 non-null  int64  \n",
      " 4   DateTime             39917 non-null  object \n",
      " 5   Year                 39917 non-null  int64  \n",
      " 6   StreetName           39898 non-null  object \n",
      " 7   CrossStreet          39876 non-null  object \n",
      " 8   Distance             39917 non-null  float64\n",
      " 9   JunctionRelation     39917 non-null  object \n",
      " 10  Totalinjuries        39917 non-null  int64  \n",
      " 11  Totalfatalities      39917 non-null  int64  \n",
      " 12  Injuryseverity       39917 non-null  object \n",
      " 13  Collisionmanner      39917 non-null  object \n",
      " 14  Lightcondition       39917 non-null  object \n",
      " 15  Weather              39917 non-null  object \n",
      " 16  SurfaceCondition     39917 non-null  object \n",
      " 17  Unittype_One         39917 non-null  object \n",
      " 18  Age_Drv1             39884 non-null  float64\n",
      " 19  Gender_Drv1          39248 non-null  object \n",
      " 20  Traveldirection_One  39917 non-null  object \n",
      " 21  Unitaction_One       39917 non-null  object \n",
      " 22  Violation1_Drv1      39884 non-null  object \n",
      " 23  AlcoholUse_Drv1      39884 non-null  object \n",
      " 24  DrugUse_Drv1         39884 non-null  object \n",
      " 25  Unittype_Two         37471 non-null  object \n",
      " 26  Age_Drv2             36459 non-null  float64\n",
      " 27  Gender_Drv2          36380 non-null  object \n",
      " 28  Traveldirection_Two  37471 non-null  object \n",
      " 29  Unitaction_Two       37471 non-null  object \n",
      " 30  Violation1_Drv2      36459 non-null  object \n",
      " 31  AlcoholUse_Drv2      36459 non-null  object \n",
      " 32  DrugUse_Drv2         36459 non-null  object \n",
      " 33  Latitude             39779 non-null  float64\n",
      " 34  Longitude            39779 non-null  float64\n",
      "dtypes: float64(7), int64(5), object(23)\n",
      "memory usage: 10.7+ MB\n"
     ]
    }
   ],
   "source": [
    "import pandas as pd\n",
    "import numpy as np \n",
    "import seaborn as sns\n",
    "import pandasql\n",
    "import statsmodels.api as sm\n",
    "from pandasql import sqldf\n",
    "\n",
    "traffic_dataset = pd.read_csv(\"/Users/n/Downloads/Tempe_Crash_Data.csv\")\n",
    "\n",
    "traffic_dataset.info()"
   ]
  },
  {
   "cell_type": "code",
   "execution_count": 77,
   "id": "39590f29",
   "metadata": {},
   "outputs": [
    {
     "data": {
      "text/plain": [
       "<AxesSubplot:>"
      ]
     },
     "execution_count": 77,
     "metadata": {},
     "output_type": "execute_result"
    },
    {
     "data": {
      "image/png": "[encoded data removed]",
      "text/plain": [
       "<Figure size 432x288 with 1 Axes>"
      ]
     },
     "metadata": {
      "needs_background": "light"
     },
     "output_type": "display_data"
    }
   ],
   "source": [
    "#count of total number of accidents per year fatal + nonfatal\n",
    "q = \"\"\" SELECT Year, COUNT(year)\n",
    "        FROM traffic_dataset\n",
    "        GROUP BY Year;\n",
    "    \"\"\"\n",
    "\n",
    "year = sqldf(q, globals())\n",
    "\n",
    "year.plot.bar(y = 'COUNT(year)')"
   ]
  },
  {
   "cell_type": "markdown",
   "id": "e1901b81",
   "metadata": {},
   "source": [
    "## Here we are grouping our dataset into blocks one with fatal accidents one with nonfatal accidents\n"
   ]
  },
  {
   "cell_type": "code",
   "execution_count": 78,
   "id": "6d081492",
   "metadata": {},
   "outputs": [],
   "source": [
    "#grouping our dataset into related blocks \n",
    "#fatal accidents\n",
    "q1 = \"\"\"SELECT * \n",
    "        FROM traffic_dataset\n",
    "        WHERE Totalfatalities > 0;\n",
    "        \"\"\"\n",
    "fatal_frame = sqldf(q1,globals())\n",
    "\n",
    "\n",
    "q2 = \"\"\"SELECT * \n",
    "        FROM traffic_dataset\n",
    "            WHERE Totalfatalities = 0\"\"\"\n",
    "nonfatal_frame = sqldf(q2, globals())"
   ]
  },
  {
   "cell_type": "markdown",
   "id": "faece293",
   "metadata": {},
   "source": [
    "## We further break down our data into driver information and time / location information, with our respective nonfatal and fatal blocks\n"
   ]
  },
  {
   "cell_type": "code",
   "execution_count": 79,
   "id": "7710a44a",
   "metadata": {
    "scrolled": true
   },
   "outputs": [
    {
     "data": {
      "text/plain": [
       "array([[<AxesSubplot:title={'center':'Age_Drv1'}>,\n",
       "        <AxesSubplot:title={'center':'Age_Drv2'}>]], dtype=object)"
      ]
     },
     "execution_count": 79,
     "metadata": {},
     "output_type": "execute_result"
    },
    {
     "data": {
      "image/png": "[encoded data removed]",
      "text/plain": [
       "<Figure size 432x288 with 2 Axes>"
      ]
     },
     "metadata": {
      "needs_background": "light"
     },
     "output_type": "display_data"
    }
   ],
   "source": [
    "#driver info frame fatal accidents\n",
    "q3 = \"\"\"SELECT IncidentID,\n",
    "        Age_Drv1, Gender_Drv1,Violation1_Drv1, AlcoholUse_Drv1,\n",
    "        DrugUse_Drv1, Age_Drv2, Gender_Drv2, Violation1_Drv2,\n",
    "        AlcoholUse_Drv2, DrugUse_Drv2, Totalfatalities, Totalinjuries\n",
    "        FROM fatal_frame\"\"\"\n",
    "\n",
    "fatal_drv_info = sqldf(q3,globals())\n",
    "\n",
    "#descriptive stats\n",
    "fatal_drv_info.describe()\n",
    "\n",
    "fatal_drv_info.hist(column = ['Age_Drv1', 'Age_Drv2'])"
   ]
  },
  {
   "cell_type": "code",
   "execution_count": 80,
   "id": "ee216cf6",
   "metadata": {},
   "outputs": [
    {
     "data": {
      "text/plain": [
       "array([[<AxesSubplot:title={'center':'Incidentid'}>,\n",
       "        <AxesSubplot:title={'center':'Age_Drv1'}>],\n",
       "       [<AxesSubplot:title={'center':'Age_Drv2'}>,\n",
       "        <AxesSubplot:title={'center':'Totalinjuries'}>]], dtype=object)"
      ]
     },
     "execution_count": 80,
     "metadata": {},
     "output_type": "execute_result"
    },
    {
     "data": {
      "image/png": "[encoded data removed]",
      "text/plain": [
       "<Figure size 432x288 with 4 Axes>"
      ]
     },
     "metadata": {
      "needs_background": "light"
     },
     "output_type": "display_data"
    }
   ],
   "source": [
    "#grouped for non fatal accidents drivers information\n",
    "q4 = \"\"\"SELECT IncidentID,\n",
    "        Age_Drv1, Gender_Drv1,Violation1_Drv1, AlcoholUse_Drv1,\n",
    "        DrugUse_Drv1, Age_Drv2, Gender_Drv2, Violation1_Drv2,\n",
    "        AlcoholUse_Drv2, DrugUse_Drv2, Injuryseverity ,Totalinjuries\n",
    "        FROM nonfatal_frame\"\"\"\n",
    "\n",
    "non_fatal_drv_info = sqldf(q4,globals())\n",
    "\n",
    "#detecting outliers\n",
    "sqldf(\"SELECT Age_Drv1, Age_Drv2 FROM non_fatal_drv_info WHERE Age_Drv1 > 100 OR Age_Drv2 > 100\")\n",
    "non_fatal_drv_info.hist()"
   ]
  },
  {
   "cell_type": "code",
   "execution_count": 81,
   "id": "6b8c514e",
   "metadata": {},
   "outputs": [
    {
     "data": {
      "text/plain": [
       "array([[<AxesSubplot:title={'center':'Incidentid'}>,\n",
       "        <AxesSubplot:title={'center':'Age_Drv1'}>],\n",
       "       [<AxesSubplot:title={'center':'Age_Drv2'}>,\n",
       "        <AxesSubplot:title={'center':'Totalinjuries'}>]], dtype=object)"
      ]
     },
     "execution_count": 81,
     "metadata": {},
     "output_type": "execute_result"
    },
    {
     "data": {
      "image/png": "[encoded data removed]",
      "text/plain": [
       "<Figure size 432x288 with 4 Axes>"
      ]
     },
     "metadata": {
      "needs_background": "light"
     },
     "output_type": "display_data"
    }
   ],
   "source": [
    "#cleaning our dataframe using quartiles\n",
    "Q1_Drv1 = non_fatal_drv_info['Age_Drv1' and 'Age_Drv2'].quantile(0.25)\n",
    "Q3_Drv1 = non_fatal_drv_info['Age_Drv1' and 'Age_Drv2'].quantile(0.75)\n",
    "IQR1 = Q3_Drv1 - Q1_Drv1\n",
    "\n",
    "lower_lim_Drv1 = Q1_Drv1 - (1.5 * IQR1)\n",
    "upper_lim_Drv1 = Q3_Drv1 + (1.5 * IQR1)\n",
    "\n",
    "outliers_Drv1_low = (non_fatal_drv_info['Age_Drv1' or 'Age_Drv2'] < lower_lim_Drv1)\n",
    "outliers_Drv2_low = (non_fatal_drv_info['Age_Drv1' or 'Age_Drv2'] > upper_lim_Drv1)\n",
    "\n",
    "\n",
    "non_fatal_drv_info = non_fatal_drv_info[~(outliers_Drv1_low | outliers_Drv2_low)]\n",
    "\n",
    "#clean dataset\n",
    "non_fatal_drv_info.hist()"
   ]
  },
  {
   "cell_type": "code",
   "execution_count": 82,
   "id": "2485f52e",
   "metadata": {},
   "outputs": [
    {
     "data": {
      "text/html": [
       "<div>\n",
       "<style scoped>\n",
       "    .dataframe tbody tr th:only-of-type {\n",
       "        vertical-align: middle;\n",
       "    }\n",
       "\n",
       "    .dataframe tbody tr th {\n",
       "        vertical-align: top;\n",
       "    }\n",
       "\n",
       "    .dataframe thead th {\n",
       "        text-align: right;\n",
       "    }\n",
       "</style>\n",
       "<table border=\"1\" class=\"dataframe\">\n",
       "  <thead>\n",
       "    <tr style=\"text-align: right;\">\n",
       "      <th></th>\n",
       "      <th>Incidentid</th>\n",
       "      <th>Year</th>\n",
       "      <th>Latitude</th>\n",
       "      <th>Longitude</th>\n",
       "    </tr>\n",
       "  </thead>\n",
       "  <tbody>\n",
       "    <tr>\n",
       "      <th>count</th>\n",
       "      <td>9.900000e+01</td>\n",
       "      <td>99.000000</td>\n",
       "      <td>99.000000</td>\n",
       "      <td>99.000000</td>\n",
       "    </tr>\n",
       "    <tr>\n",
       "      <th>mean</th>\n",
       "      <td>3.220083e+06</td>\n",
       "      <td>2016.535354</td>\n",
       "      <td>33.399627</td>\n",
       "      <td>-111.930771</td>\n",
       "    </tr>\n",
       "    <tr>\n",
       "      <th>std</th>\n",
       "      <td>3.101645e+05</td>\n",
       "      <td>2.296018</td>\n",
       "      <td>0.027665</td>\n",
       "      <td>0.027462</td>\n",
       "    </tr>\n",
       "    <tr>\n",
       "      <th>min</th>\n",
       "      <td>2.589984e+06</td>\n",
       "      <td>2012.000000</td>\n",
       "      <td>33.334548</td>\n",
       "      <td>-111.978338</td>\n",
       "    </tr>\n",
       "    <tr>\n",
       "      <th>25%</th>\n",
       "      <td>2.909490e+06</td>\n",
       "      <td>2014.000000</td>\n",
       "      <td>33.378445</td>\n",
       "      <td>-111.952571</td>\n",
       "    </tr>\n",
       "    <tr>\n",
       "      <th>50%</th>\n",
       "      <td>3.263628e+06</td>\n",
       "      <td>2017.000000</td>\n",
       "      <td>33.400049</td>\n",
       "      <td>-111.928500</td>\n",
       "    </tr>\n",
       "    <tr>\n",
       "      <th>75%</th>\n",
       "      <td>3.470776e+06</td>\n",
       "      <td>2018.000000</td>\n",
       "      <td>33.417612</td>\n",
       "      <td>-111.907317</td>\n",
       "    </tr>\n",
       "    <tr>\n",
       "      <th>max</th>\n",
       "      <td>3.720566e+06</td>\n",
       "      <td>2020.000000</td>\n",
       "      <td>33.454875</td>\n",
       "      <td>-111.877852</td>\n",
       "    </tr>\n",
       "  </tbody>\n",
       "</table>\n",
       "</div>"
      ],
      "text/plain": [
       "         Incidentid         Year   Latitude   Longitude\n",
       "count  9.900000e+01    99.000000  99.000000   99.000000\n",
       "mean   3.220083e+06  2016.535354  33.399627 -111.930771\n",
       "std    3.101645e+05     2.296018   0.027665    0.027462\n",
       "min    2.589984e+06  2012.000000  33.334548 -111.978338\n",
       "25%    2.909490e+06  2014.000000  33.378445 -111.952571\n",
       "50%    3.263628e+06  2017.000000  33.400049 -111.928500\n",
       "75%    3.470776e+06  2018.000000  33.417612 -111.907317\n",
       "max    3.720566e+06  2020.000000  33.454875 -111.877852"
      ]
     },
     "execution_count": 82,
     "metadata": {},
     "output_type": "execute_result"
    }
   ],
   "source": [
    "#time + location fatal\n",
    "q5 = \"\"\"SELECT IncidentID, Year, DateTime, StreetName, CrossStreet, Latitude, Longitude,\n",
    "        Lightcondition, Weather, SurfaceCondition\n",
    "        FROM fatal_frame;\n",
    "        \"\"\"\n",
    "time_location_fatal = sqldf(q5,globals())\n",
    "\n",
    "time_location_fatal.describe()"
   ]
  },
  {
   "cell_type": "code",
   "execution_count": 83,
   "id": "a8c62b21",
   "metadata": {},
   "outputs": [
    {
     "data": {
      "text/plain": [
       "array([[<AxesSubplot:title={'center':'Year'}>]], dtype=object)"
      ]
     },
     "execution_count": 83,
     "metadata": {},
     "output_type": "execute_result"
    },
    {
     "data": {
      "image/png": "[encoded data removed]",
      "text/plain": [
       "<Figure size 432x288 with 1 Axes>"
      ]
     },
     "metadata": {
      "needs_background": "light"
     },
     "output_type": "display_data"
    }
   ],
   "source": [
    "#exploring our data\n",
    "time_location_fatal.hist('Year')"
   ]
  },
  {
   "cell_type": "code",
   "execution_count": 84,
   "id": "b6b31720",
   "metadata": {},
   "outputs": [
    {
     "data": {
      "text/html": [
       "<div>\n",
       "<style scoped>\n",
       "    .dataframe tbody tr th:only-of-type {\n",
       "        vertical-align: middle;\n",
       "    }\n",
       "\n",
       "    .dataframe tbody tr th {\n",
       "        vertical-align: top;\n",
       "    }\n",
       "\n",
       "    .dataframe thead th {\n",
       "        text-align: right;\n",
       "    }\n",
       "</style>\n",
       "<table border=\"1\" class=\"dataframe\">\n",
       "  <thead>\n",
       "    <tr style=\"text-align: right;\">\n",
       "      <th></th>\n",
       "      <th>Incidentid</th>\n",
       "      <th>Year</th>\n",
       "      <th>Latitude</th>\n",
       "      <th>Longitude</th>\n",
       "    </tr>\n",
       "  </thead>\n",
       "  <tbody>\n",
       "    <tr>\n",
       "      <th>count</th>\n",
       "      <td>3.981800e+04</td>\n",
       "      <td>39818.000000</td>\n",
       "      <td>39680.000000</td>\n",
       "      <td>39680.000000</td>\n",
       "    </tr>\n",
       "    <tr>\n",
       "      <th>mean</th>\n",
       "      <td>3.121640e+06</td>\n",
       "      <td>2015.920212</td>\n",
       "      <td>33.397689</td>\n",
       "      <td>-111.932550</td>\n",
       "    </tr>\n",
       "    <tr>\n",
       "      <th>std</th>\n",
       "      <td>3.220607e+05</td>\n",
       "      <td>2.445578</td>\n",
       "      <td>0.028702</td>\n",
       "      <td>0.024174</td>\n",
       "    </tr>\n",
       "    <tr>\n",
       "      <th>min</th>\n",
       "      <td>2.579417e+06</td>\n",
       "      <td>2012.000000</td>\n",
       "      <td>33.319857</td>\n",
       "      <td>-111.978469</td>\n",
       "    </tr>\n",
       "    <tr>\n",
       "      <th>25%</th>\n",
       "      <td>2.835613e+06</td>\n",
       "      <td>2014.000000</td>\n",
       "      <td>33.378258</td>\n",
       "      <td>-111.952180</td>\n",
       "    </tr>\n",
       "    <tr>\n",
       "      <th>50%</th>\n",
       "      <td>3.111136e+06</td>\n",
       "      <td>2016.000000</td>\n",
       "      <td>33.407268</td>\n",
       "      <td>-111.928600</td>\n",
       "    </tr>\n",
       "    <tr>\n",
       "      <th>75%</th>\n",
       "      <td>3.400123e+06</td>\n",
       "      <td>2018.000000</td>\n",
       "      <td>33.421929</td>\n",
       "      <td>-111.911207</td>\n",
       "    </tr>\n",
       "    <tr>\n",
       "      <th>max</th>\n",
       "      <td>3.750445e+06</td>\n",
       "      <td>2020.000000</td>\n",
       "      <td>33.458484</td>\n",
       "      <td>-111.877419</td>\n",
       "    </tr>\n",
       "  </tbody>\n",
       "</table>\n",
       "</div>"
      ],
      "text/plain": [
       "         Incidentid          Year      Latitude     Longitude\n",
       "count  3.981800e+04  39818.000000  39680.000000  39680.000000\n",
       "mean   3.121640e+06   2015.920212     33.397689   -111.932550\n",
       "std    3.220607e+05      2.445578      0.028702      0.024174\n",
       "min    2.579417e+06   2012.000000     33.319857   -111.978469\n",
       "25%    2.835613e+06   2014.000000     33.378258   -111.952180\n",
       "50%    3.111136e+06   2016.000000     33.407268   -111.928600\n",
       "75%    3.400123e+06   2018.000000     33.421929   -111.911207\n",
       "max    3.750445e+06   2020.000000     33.458484   -111.877419"
      ]
     },
     "execution_count": 84,
     "metadata": {},
     "output_type": "execute_result"
    }
   ],
   "source": [
    "# time + location nonfatal\n",
    "q6 = \"\"\"SELECT IncidentID, Year, DateTime, StreetName, CrossStreet, Latitude, Longitude,\n",
    "        Lightcondition, Weather, SurfaceCondition\n",
    "        FROM nonfatal_frame;\n",
    "        \"\"\"\n",
    "time_location_non_fatal = sqldf(q6, globals())\n",
    "time_location_non_fatal.describe()"
   ]
  },
  {
   "cell_type": "code",
   "execution_count": 85,
   "id": "938cbb98",
   "metadata": {},
   "outputs": [
    {
     "data": {
      "text/plain": [
       "array([[<AxesSubplot:title={'center':'Incidentid'}>,\n",
       "        <AxesSubplot:title={'center':'Year'}>],\n",
       "       [<AxesSubplot:title={'center':'Latitude'}>,\n",
       "        <AxesSubplot:title={'center':'Longitude'}>]], dtype=object)"
      ]
     },
     "execution_count": 85,
     "metadata": {},
     "output_type": "execute_result"
    },
    {
     "data": {
      "image/png": "[encoded data removed]",
      "text/plain": [
       "<Figure size 432x288 with 4 Axes>"
      ]
     },
     "metadata": {
      "needs_background": "light"
     },
     "output_type": "display_data"
    }
   ],
   "source": [
    "time_location_non_fatal.hist()"
   ]
  },
  {
   "cell_type": "markdown",
   "id": "ea2609a0",
   "metadata": {},
   "source": [
    "## Basic Statistical Tests"
   ]
  },
  {
   "cell_type": "code",
   "execution_count": 86,
   "id": "5d98503c",
   "metadata": {},
   "outputs": [
    {
     "data": {
      "text/html": [
       "<div>\n",
       "<style scoped>\n",
       "    .dataframe tbody tr th:only-of-type {\n",
       "        vertical-align: middle;\n",
       "    }\n",
       "\n",
       "    .dataframe tbody tr th {\n",
       "        vertical-align: top;\n",
       "    }\n",
       "\n",
       "    .dataframe thead th {\n",
       "        text-align: right;\n",
       "    }\n",
       "</style>\n",
       "<table border=\"1\" class=\"dataframe\">\n",
       "  <thead>\n",
       "    <tr style=\"text-align: right;\">\n",
       "      <th></th>\n",
       "      <th>Incidentid</th>\n",
       "      <th>Age_Drv1</th>\n",
       "      <th>Age_Drv2</th>\n",
       "      <th>Totalinjuries</th>\n",
       "    </tr>\n",
       "  </thead>\n",
       "  <tbody>\n",
       "    <tr>\n",
       "      <th>Incidentid</th>\n",
       "      <td>1.000000</td>\n",
       "      <td>0.023055</td>\n",
       "      <td>0.009846</td>\n",
       "      <td>0.048741</td>\n",
       "    </tr>\n",
       "    <tr>\n",
       "      <th>Age_Drv1</th>\n",
       "      <td>0.023055</td>\n",
       "      <td>1.000000</td>\n",
       "      <td>0.035705</td>\n",
       "      <td>-0.003930</td>\n",
       "    </tr>\n",
       "    <tr>\n",
       "      <th>Age_Drv2</th>\n",
       "      <td>0.009846</td>\n",
       "      <td>0.035705</td>\n",
       "      <td>1.000000</td>\n",
       "      <td>-0.016538</td>\n",
       "    </tr>\n",
       "    <tr>\n",
       "      <th>Totalinjuries</th>\n",
       "      <td>0.048741</td>\n",
       "      <td>-0.003930</td>\n",
       "      <td>-0.016538</td>\n",
       "      <td>1.000000</td>\n",
       "    </tr>\n",
       "  </tbody>\n",
       "</table>\n",
       "</div>"
      ],
      "text/plain": [
       "               Incidentid  Age_Drv1  Age_Drv2  Totalinjuries\n",
       "Incidentid       1.000000  0.023055  0.009846       0.048741\n",
       "Age_Drv1         0.023055  1.000000  0.035705      -0.003930\n",
       "Age_Drv2         0.009846  0.035705  1.000000      -0.016538\n",
       "Totalinjuries    0.048741 -0.003930 -0.016538       1.000000"
      ]
     },
     "execution_count": 86,
     "metadata": {},
     "output_type": "execute_result"
    }
   ],
   "source": [
    "#pearsons correlation coefficient non fatal \n",
    "non_fatal_drv_info.corr(method='pearson')"
   ]
  },
  {
   "cell_type": "code",
   "execution_count": 87,
   "id": "465e6321",
   "metadata": {},
   "outputs": [
    {
     "data": {
      "text/html": [
       "<div>\n",
       "<style scoped>\n",
       "    .dataframe tbody tr th:only-of-type {\n",
       "        vertical-align: middle;\n",
       "    }\n",
       "\n",
       "    .dataframe tbody tr th {\n",
       "        vertical-align: top;\n",
       "    }\n",
       "\n",
       "    .dataframe thead th {\n",
       "        text-align: right;\n",
       "    }\n",
       "</style>\n",
       "<table border=\"1\" class=\"dataframe\">\n",
       "  <thead>\n",
       "    <tr style=\"text-align: right;\">\n",
       "      <th></th>\n",
       "      <th>Incidentid</th>\n",
       "      <th>Age_Drv1</th>\n",
       "      <th>Age_Drv2</th>\n",
       "      <th>Totalfatalities</th>\n",
       "      <th>Totalinjuries</th>\n",
       "    </tr>\n",
       "  </thead>\n",
       "  <tbody>\n",
       "    <tr>\n",
       "      <th>Incidentid</th>\n",
       "      <td>1.000000</td>\n",
       "      <td>0.123256</td>\n",
       "      <td>0.105327</td>\n",
       "      <td>-0.007811</td>\n",
       "      <td>-0.040614</td>\n",
       "    </tr>\n",
       "    <tr>\n",
       "      <th>Age_Drv1</th>\n",
       "      <td>0.123256</td>\n",
       "      <td>1.000000</td>\n",
       "      <td>-0.086399</td>\n",
       "      <td>-0.025647</td>\n",
       "      <td>-0.073642</td>\n",
       "    </tr>\n",
       "    <tr>\n",
       "      <th>Age_Drv2</th>\n",
       "      <td>0.105327</td>\n",
       "      <td>-0.086399</td>\n",
       "      <td>1.000000</td>\n",
       "      <td>0.024508</td>\n",
       "      <td>0.190016</td>\n",
       "    </tr>\n",
       "    <tr>\n",
       "      <th>Totalfatalities</th>\n",
       "      <td>-0.007811</td>\n",
       "      <td>-0.025647</td>\n",
       "      <td>0.024508</td>\n",
       "      <td>1.000000</td>\n",
       "      <td>0.111594</td>\n",
       "    </tr>\n",
       "    <tr>\n",
       "      <th>Totalinjuries</th>\n",
       "      <td>-0.040614</td>\n",
       "      <td>-0.073642</td>\n",
       "      <td>0.190016</td>\n",
       "      <td>0.111594</td>\n",
       "      <td>1.000000</td>\n",
       "    </tr>\n",
       "  </tbody>\n",
       "</table>\n",
       "</div>"
      ],
      "text/plain": [
       "                 Incidentid  Age_Drv1  Age_Drv2  Totalfatalities  \\\n",
       "Incidentid         1.000000  0.123256  0.105327        -0.007811   \n",
       "Age_Drv1           0.123256  1.000000 -0.086399        -0.025647   \n",
       "Age_Drv2           0.105327 -0.086399  1.000000         0.024508   \n",
       "Totalfatalities   -0.007811 -0.025647  0.024508         1.000000   \n",
       "Totalinjuries     -0.040614 -0.073642  0.190016         0.111594   \n",
       "\n",
       "                 Totalinjuries  \n",
       "Incidentid           -0.040614  \n",
       "Age_Drv1             -0.073642  \n",
       "Age_Drv2              0.190016  \n",
       "Totalfatalities       0.111594  \n",
       "Totalinjuries         1.000000  "
      ]
     },
     "execution_count": 87,
     "metadata": {},
     "output_type": "execute_result"
    }
   ],
   "source": [
    "#pearsons correlation coefficient fatal\n",
    "fatal_drv_info.corr(method='pearson')"
   ]
  },
  {
   "cell_type": "code",
   "execution_count": 88,
   "id": "059db9e5",
   "metadata": {},
   "outputs": [
    {
     "data": {
      "text/html": [
       "<div>\n",
       "<style scoped>\n",
       "    .dataframe tbody tr th:only-of-type {\n",
       "        vertical-align: middle;\n",
       "    }\n",
       "\n",
       "    .dataframe tbody tr th {\n",
       "        vertical-align: top;\n",
       "    }\n",
       "\n",
       "    .dataframe thead th {\n",
       "        text-align: right;\n",
       "    }\n",
       "</style>\n",
       "<table border=\"1\" class=\"dataframe\">\n",
       "  <thead>\n",
       "    <tr style=\"text-align: right;\">\n",
       "      <th></th>\n",
       "      <th>Incidentid</th>\n",
       "      <th>Year</th>\n",
       "      <th>Latitude</th>\n",
       "      <th>Longitude</th>\n",
       "    </tr>\n",
       "  </thead>\n",
       "  <tbody>\n",
       "    <tr>\n",
       "      <th>Incidentid</th>\n",
       "      <td>1.000000</td>\n",
       "      <td>0.992152</td>\n",
       "      <td>-0.092034</td>\n",
       "      <td>0.009606</td>\n",
       "    </tr>\n",
       "    <tr>\n",
       "      <th>Year</th>\n",
       "      <td>0.992152</td>\n",
       "      <td>1.000000</td>\n",
       "      <td>-0.092409</td>\n",
       "      <td>0.019367</td>\n",
       "    </tr>\n",
       "    <tr>\n",
       "      <th>Latitude</th>\n",
       "      <td>-0.092034</td>\n",
       "      <td>-0.092409</td>\n",
       "      <td>1.000000</td>\n",
       "      <td>0.055941</td>\n",
       "    </tr>\n",
       "    <tr>\n",
       "      <th>Longitude</th>\n",
       "      <td>0.009606</td>\n",
       "      <td>0.019367</td>\n",
       "      <td>0.055941</td>\n",
       "      <td>1.000000</td>\n",
       "    </tr>\n",
       "  </tbody>\n",
       "</table>\n",
       "</div>"
      ],
      "text/plain": [
       "            Incidentid      Year  Latitude  Longitude\n",
       "Incidentid    1.000000  0.992152 -0.092034   0.009606\n",
       "Year          0.992152  1.000000 -0.092409   0.019367\n",
       "Latitude     -0.092034 -0.092409  1.000000   0.055941\n",
       "Longitude     0.009606  0.019367  0.055941   1.000000"
      ]
     },
     "execution_count": 88,
     "metadata": {},
     "output_type": "execute_result"
    }
   ],
   "source": [
    "#pearsons correlation coefficient time location fatal\n",
    "time_location_fatal.corr(method='pearson')"
   ]
  },
  {
   "cell_type": "code",
   "execution_count": 89,
   "id": "098a8a8e",
   "metadata": {},
   "outputs": [
    {
     "data": {
      "text/html": [
       "<div>\n",
       "<style scoped>\n",
       "    .dataframe tbody tr th:only-of-type {\n",
       "        vertical-align: middle;\n",
       "    }\n",
       "\n",
       "    .dataframe tbody tr th {\n",
       "        vertical-align: top;\n",
       "    }\n",
       "\n",
       "    .dataframe thead th {\n",
       "        text-align: right;\n",
       "    }\n",
       "</style>\n",
       "<table border=\"1\" class=\"dataframe\">\n",
       "  <thead>\n",
       "    <tr style=\"text-align: right;\">\n",
       "      <th></th>\n",
       "      <th>Incidentid</th>\n",
       "      <th>Year</th>\n",
       "      <th>Latitude</th>\n",
       "      <th>Longitude</th>\n",
       "    </tr>\n",
       "  </thead>\n",
       "  <tbody>\n",
       "    <tr>\n",
       "      <th>Incidentid</th>\n",
       "      <td>1.000000</td>\n",
       "      <td>0.991608</td>\n",
       "      <td>0.017566</td>\n",
       "      <td>-0.021917</td>\n",
       "    </tr>\n",
       "    <tr>\n",
       "      <th>Year</th>\n",
       "      <td>0.991608</td>\n",
       "      <td>1.000000</td>\n",
       "      <td>0.017171</td>\n",
       "      <td>-0.022581</td>\n",
       "    </tr>\n",
       "    <tr>\n",
       "      <th>Latitude</th>\n",
       "      <td>0.017566</td>\n",
       "      <td>0.017171</td>\n",
       "      <td>1.000000</td>\n",
       "      <td>0.151254</td>\n",
       "    </tr>\n",
       "    <tr>\n",
       "      <th>Longitude</th>\n",
       "      <td>-0.021917</td>\n",
       "      <td>-0.022581</td>\n",
       "      <td>0.151254</td>\n",
       "      <td>1.000000</td>\n",
       "    </tr>\n",
       "  </tbody>\n",
       "</table>\n",
       "</div>"
      ],
      "text/plain": [
       "            Incidentid      Year  Latitude  Longitude\n",
       "Incidentid    1.000000  0.991608  0.017566  -0.021917\n",
       "Year          0.991608  1.000000  0.017171  -0.022581\n",
       "Latitude      0.017566  0.017171  1.000000   0.151254\n",
       "Longitude    -0.021917 -0.022581  0.151254   1.000000"
      ]
     },
     "execution_count": 89,
     "metadata": {},
     "output_type": "execute_result"
    }
   ],
   "source": [
    "#pearsons correlation coefficient time location fatal\n",
    "time_location_non_fatal.corr(method='pearson')"
   ]
  },
  {
   "cell_type": "code",
   "execution_count": 90,
   "id": "439c9696",
   "metadata": {},
   "outputs": [
    {
     "name": "stdout",
     "output_type": "stream",
     "text": [
      "                            OLS Regression Results                            \n",
      "==============================================================================\n",
      "Dep. Variable:          Totalinjuries   R-squared:                       0.000\n",
      "Model:                            OLS   Adj. R-squared:                 -0.000\n",
      "Method:                 Least Squares   F-statistic:                    0.8227\n",
      "Date:                Fri, 10 Dec 2021   Prob (F-statistic):              0.439\n",
      "Time:                        11:55:56   Log-Likelihood:                -43688.\n",
      "No. Observations:               35729   AIC:                         8.738e+04\n",
      "Df Residuals:                   35726   BIC:                         8.741e+04\n",
      "Df Model:                           2                                         \n",
      "Covariance Type:            nonrobust                                         \n",
      "==============================================================================\n",
      "                 coef    std err          t      P>|t|      [0.025      0.975]\n",
      "------------------------------------------------------------------------------\n",
      "const          0.4739      0.012     39.098      0.000       0.450       0.498\n",
      "Age_Drv1      -0.0002      0.000     -0.690      0.490      -0.001       0.000\n",
      "Age_Drv2       0.0002      0.000      1.114      0.265      -0.000       0.001\n",
      "==============================================================================\n",
      "Omnibus:                    17899.515   Durbin-Watson:                   1.974\n",
      "Prob(Omnibus):                  0.000   Jarque-Bera (JB):           126973.296\n",
      "Skew:                           2.332   Prob(JB):                         0.00\n",
      "Kurtosis:                      10.971   Cond. No.                         151.\n",
      "==============================================================================\n",
      "\n",
      "Notes:\n",
      "[1] Standard Errors assume that the covariance matrix of the errors is correctly specified.\n"
     ]
    }
   ],
   "source": [
    "#simple regression models show that we cannot show a strong realtionship between age and injury rate\n",
    "non_fatal_drv_info = non_fatal_drv_info.fillna(value=0)\n",
    "X = non_fatal_drv_info[['Age_Drv1', 'Age_Drv2']]\n",
    "Y = non_fatal_drv_info[['Totalinjuries']]\n",
    "X = sm.add_constant(X)\n",
    "\n",
    "model = sm.OLS(Y, X).fit()\n",
    "model_summary = model.summary()\n",
    "print(model_summary)"
   ]
  }
 ],
 "metadata": {
  "kernelspec": {
   "display_name": "Python 3 (ipykernel)",
   "language": "python",
   "name": "python3"
  },
  "language_info": {
   "codemirror_mode": {
    "name": "ipython",
    "version": 3
   },
   "file_extension": ".py",
   "mimetype": "text/x-python",
   "name": "python",
   "nbconvert_exporter": "python",
   "pygments_lexer": "ipython3",
   "version": "3.9.6"
  }
 },
 "nbformat": 4,
 "nbformat_minor": 5
}
