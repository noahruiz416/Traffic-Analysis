{
 "cells": [
  {
   "cell_type": "markdown",
   "id": "3c41815f",
   "metadata": {},
   "source": [
    "# In this notebook we will continue our project and start creating our ML model, we will start by importing our clean data blocks (In Progress)"
   ]
  },
  {
   "cell_type": "code",
   "execution_count": 24,
   "id": "dcb974c4",
   "metadata": {},
   "outputs": [],
   "source": [
    "#importing our datasets from our ETL / EDA file\n",
    "import import_ipynb\n",
    "import tempe_traffic_EDA_ETL\n",
    "from tempe_traffic_EDA_ETL import fatal_frame\n",
    "from tempe_traffic_EDA_ETL import nonfatal_frame\n",
    "from tempe_traffic_EDA_ETL import fatal_drv_info \n",
    "from tempe_traffic_EDA_ETL import non_fatal_drv_info \n",
    "from tempe_traffic_EDA_ETL import time_location_fatal \n",
    "from tempe_traffic_EDA_ETL import time_location_non_fatal "
   ]
  },
  {
   "cell_type": "code",
   "execution_count": 25,
   "id": "4f614798",
   "metadata": {},
   "outputs": [
    {
     "name": "stdout",
     "output_type": "stream",
     "text": [
      "<class 'pandas.core.frame.DataFrame'>\n",
      "RangeIndex: 99 entries, 0 to 98\n",
      "Data columns (total 13 columns):\n",
      " #   Column           Non-Null Count  Dtype  \n",
      "---  ------           --------------  -----  \n",
      " 0   Incidentid       99 non-null     int64  \n",
      " 1   Age_Drv1         99 non-null     float64\n",
      " 2   Gender_Drv1      99 non-null     object \n",
      " 3   Violation1_Drv1  99 non-null     object \n",
      " 4   AlcoholUse_Drv1  99 non-null     object \n",
      " 5   DrugUse_Drv1     99 non-null     object \n",
      " 6   Age_Drv2         80 non-null     float64\n",
      " 7   Gender_Drv2      80 non-null     object \n",
      " 8   Violation1_Drv2  80 non-null     object \n",
      " 9   AlcoholUse_Drv2  80 non-null     object \n",
      " 10  DrugUse_Drv2     80 non-null     object \n",
      " 11  Totalfatalities  99 non-null     int64  \n",
      " 12  Totalinjuries    99 non-null     int64  \n",
      "dtypes: float64(2), int64(3), object(8)\n",
      "memory usage: 10.2+ KB\n"
     ]
    }
   ],
   "source": [
    "fatal_drv_info.info()"
   ]
  },
  {
   "cell_type": "code",
   "execution_count": 26,
   "id": "bed5d824",
   "metadata": {},
   "outputs": [
    {
     "name": "stdout",
     "output_type": "stream",
     "text": [
      "<class 'pandas.core.frame.DataFrame'>\n",
      "Int64Index: 35729 entries, 1 to 39817\n",
      "Data columns (total 13 columns):\n",
      " #   Column           Non-Null Count  Dtype  \n",
      "---  ------           --------------  -----  \n",
      " 0   Incidentid       35729 non-null  int64  \n",
      " 1   Age_Drv1         35729 non-null  float64\n",
      " 2   Gender_Drv1      35729 non-null  object \n",
      " 3   Violation1_Drv1  35729 non-null  object \n",
      " 4   AlcoholUse_Drv1  35729 non-null  object \n",
      " 5   DrugUse_Drv1     35729 non-null  object \n",
      " 6   Age_Drv2         35729 non-null  float64\n",
      " 7   Gender_Drv2      35729 non-null  object \n",
      " 8   Violation1_Drv2  35729 non-null  object \n",
      " 9   AlcoholUse_Drv2  35729 non-null  object \n",
      " 10  DrugUse_Drv2     35729 non-null  object \n",
      " 11  Injuryseverity   35729 non-null  object \n",
      " 12  Totalinjuries    35729 non-null  int64  \n",
      "dtypes: float64(2), int64(2), object(9)\n",
      "memory usage: 3.8+ MB\n"
     ]
    }
   ],
   "source": [
    "non_fatal_drv_info.info()"
   ]
  },
  {
   "cell_type": "code",
   "execution_count": 27,
   "id": "917a50cd",
   "metadata": {},
   "outputs": [
    {
     "name": "stdout",
     "output_type": "stream",
     "text": [
      "<class 'pandas.core.frame.DataFrame'>\n",
      "RangeIndex: 99 entries, 0 to 98\n",
      "Data columns (total 10 columns):\n",
      " #   Column            Non-Null Count  Dtype  \n",
      "---  ------            --------------  -----  \n",
      " 0   Incidentid        99 non-null     int64  \n",
      " 1   Year              99 non-null     int64  \n",
      " 2   DateTime          99 non-null     object \n",
      " 3   StreetName        99 non-null     object \n",
      " 4   CrossStreet       99 non-null     object \n",
      " 5   Latitude          99 non-null     float64\n",
      " 6   Longitude         99 non-null     float64\n",
      " 7   Lightcondition    99 non-null     object \n",
      " 8   Weather           99 non-null     object \n",
      " 9   SurfaceCondition  99 non-null     object \n",
      "dtypes: float64(2), int64(2), object(6)\n",
      "memory usage: 7.9+ KB\n"
     ]
    }
   ],
   "source": [
    "time_location_fatal.info()"
   ]
  },
  {
   "cell_type": "code",
   "execution_count": 28,
   "id": "50855c88",
   "metadata": {},
   "outputs": [
    {
     "name": "stdout",
     "output_type": "stream",
     "text": [
      "<class 'pandas.core.frame.DataFrame'>\n",
      "RangeIndex: 39818 entries, 0 to 39817\n",
      "Data columns (total 10 columns):\n",
      " #   Column            Non-Null Count  Dtype  \n",
      "---  ------            --------------  -----  \n",
      " 0   Incidentid        39818 non-null  int64  \n",
      " 1   Year              39818 non-null  int64  \n",
      " 2   DateTime          39818 non-null  object \n",
      " 3   StreetName        39799 non-null  object \n",
      " 4   CrossStreet       39777 non-null  object \n",
      " 5   Latitude          39680 non-null  float64\n",
      " 6   Longitude         39680 non-null  float64\n",
      " 7   Lightcondition    39818 non-null  object \n",
      " 8   Weather           39818 non-null  object \n",
      " 9   SurfaceCondition  39818 non-null  object \n",
      "dtypes: float64(2), int64(2), object(6)\n",
      "memory usage: 3.0+ MB\n"
     ]
    }
   ],
   "source": [
    "time_location_non_fatal.info()"
   ]
  },
  {
   "cell_type": "code",
   "execution_count": null,
   "id": "ad94d9d4",
   "metadata": {},
   "outputs": [],
   "source": []
  }
 ],
 "metadata": {
  "kernelspec": {
   "display_name": "Python 3 (ipykernel)",
   "language": "python",
   "name": "python3"
  },
  "language_info": {
   "codemirror_mode": {
    "name": "ipython",
    "version": 3
   },
   "file_extension": ".py",
   "mimetype": "text/x-python",
   "name": "python",
   "nbconvert_exporter": "python",
   "pygments_lexer": "ipython3",
   "version": "3.9.6"
  }
 },
 "nbformat": 4,
 "nbformat_minor": 5
}
