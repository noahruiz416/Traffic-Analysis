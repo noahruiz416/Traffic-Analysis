{
 "cells": [
  {
   "cell_type": "markdown",
   "id": "4743501a",
   "metadata": {},
   "source": [
    "# In this notebook we will continue our project and start creating our ML model. Our goal is to properly classify the severity of traffic accidents based on various categorical variables"
   ]
  },
  {
   "cell_type": "code",
   "execution_count": 519,
   "id": "dcb974c4",
   "metadata": {},
   "outputs": [],
   "source": [
    "#importing our datasets from our ETL / EDA file\n",
    "import import_ipynb\n",
    "import tempe_traffic_EDA_ETL\n",
    "import sklearn\n",
    "import pandas as pd\n",
    "import seaborn as sns\n",
    "import numpy as np\n",
    "from pandasql import sqldf\n",
    "from tempe_traffic_EDA_ETL import traffic_dataset\n",
    "from tempe_traffic_EDA_ETL import fatal_frame\n",
    "from tempe_traffic_EDA_ETL import nonfatal_frame\n",
    "from tempe_traffic_EDA_ETL import fatal_drv_info \n",
    "from tempe_traffic_EDA_ETL import non_fatal_drv_info \n",
    "from tempe_traffic_EDA_ETL import time_location_fatal \n",
    "from tempe_traffic_EDA_ETL import time_location_non_fatal "
   ]
  },
  {
   "cell_type": "code",
   "execution_count": 520,
   "id": "549da71a",
   "metadata": {},
   "outputs": [],
   "source": [
    "#importing our split function + dropping null values\n",
    "from sklearn.model_selection import train_test_split\n",
    "traffic_dataset = traffic_dataset.dropna()"
   ]
  },
  {
   "cell_type": "code",
   "execution_count": 521,
   "id": "3c608a5e",
   "metadata": {},
   "outputs": [],
   "source": [
    "## call this function to find counts for any categorical variable, requires a column that you want counts for and table name\n",
    "def count_query(column, table):\n",
    "    q = (f\"SELECT {column}, COUNT({column}) FROM {table} GROUP BY {column}\")\n",
    "    query = sqldf(q, globals())\n",
    "    return query"
   ]
  },
  {
   "cell_type": "code",
   "execution_count": 522,
   "id": "b19c66a1",
   "metadata": {},
   "outputs": [],
   "source": [
    "#getting rid of age outliers\n",
    "def clean_outliers(frame, cat1):\n",
    "    Q1 = frame[cat1].quantile(0.25)\n",
    "    Q3 = frame[cat1].quantile(0.75)\n",
    "    IQR = Q3 - Q1\n",
    "    \n",
    "    lower_lim = Q1 - (1.5 * IQR)\n",
    "    upper_lim = Q3 + (1.5 * IQR)\n",
    "    \n",
    "    outliers_lower = (frame[cat1] < lower_lim)\n",
    "    outliers_upper = (frame[cat1] > upper_lim)\n",
    "    \n",
    "    frame = frame[~(outliers_lower | outliers_upper)]\n",
    "    \n",
    "    return frame\n",
    "\n",
    "clean1 = clean_outliers(traffic_dataset, 'Age_Drv1')\n",
    "cleanFinal = clean_outliers(clean1, 'Age_Drv2')"
   ]
  },
  {
   "cell_type": "code",
   "execution_count": 523,
   "id": "5f477f3e",
   "metadata": {
    "scrolled": false
   },
   "outputs": [
    {
     "data": {
      "text/plain": [
       "X                      0\n",
       "Y                      0\n",
       "OBJECTID               0\n",
       "Incidentid             0\n",
       "DateTime               0\n",
       "Year                   0\n",
       "StreetName             0\n",
       "CrossStreet            0\n",
       "Distance               0\n",
       "JunctionRelation       0\n",
       "Totalinjuries          0\n",
       "Totalfatalities        0\n",
       "Injuryseverity         0\n",
       "Collisionmanner        0\n",
       "Lightcondition         0\n",
       "Weather                0\n",
       "SurfaceCondition       0\n",
       "Unittype_One           0\n",
       "Age_Drv1               0\n",
       "Gender_Drv1            0\n",
       "Traveldirection_One    0\n",
       "Unitaction_One         0\n",
       "Violation1_Drv1        0\n",
       "AlcoholUse_Drv1        0\n",
       "DrugUse_Drv1           0\n",
       "Unittype_Two           0\n",
       "Age_Drv2               0\n",
       "Gender_Drv2            0\n",
       "Traveldirection_Two    0\n",
       "Unitaction_Two         0\n",
       "Violation1_Drv2        0\n",
       "AlcoholUse_Drv2        0\n",
       "DrugUse_Drv2           0\n",
       "Latitude               0\n",
       "Longitude              0\n",
       "dtype: int64"
      ]
     },
     "execution_count": 523,
     "metadata": {},
     "output_type": "execute_result"
    }
   ],
   "source": [
    "#checking to make sure our cleaning worked\n",
    "cleanFinal.isnull().sum()"
   ]
  },
  {
   "cell_type": "code",
   "execution_count": 524,
   "id": "a22c676c",
   "metadata": {},
   "outputs": [
    {
     "data": {
      "text/plain": [
       "Index(['DateTime', 'StreetName', 'CrossStreet', 'JunctionRelation',\n",
       "       'Injuryseverity', 'Collisionmanner', 'Lightcondition', 'Weather',\n",
       "       'SurfaceCondition', 'Unittype_One', 'Gender_Drv1',\n",
       "       'Traveldirection_One', 'Unitaction_One', 'Violation1_Drv1',\n",
       "       'AlcoholUse_Drv1', 'DrugUse_Drv1', 'Unittype_Two', 'Gender_Drv2',\n",
       "       'Traveldirection_Two', 'Unitaction_Two', 'Violation1_Drv2',\n",
       "       'AlcoholUse_Drv2', 'DrugUse_Drv2'],\n",
       "      dtype='object')"
      ]
     },
     "execution_count": 524,
     "metadata": {},
     "output_type": "execute_result"
    }
   ],
   "source": [
    "#categorical features that we will use in our classification model\n",
    "features = cleanFinal.select_dtypes(include='O').keys()\n",
    "features"
   ]
  },
  {
   "cell_type": "markdown",
   "id": "b70c3579",
   "metadata": {},
   "source": [
    "## Basic Exploration of Categorical Variables"
   ]
  },
  {
   "cell_type": "code",
   "execution_count": 525,
   "id": "5bb5cea4",
   "metadata": {
    "scrolled": true
   },
   "outputs": [
    {
     "data": {
      "text/plain": [
       "Daylight                 0.756226\n",
       "Dark Lighted             0.193043\n",
       "Dusk                     0.032507\n",
       "Dawn                     0.007727\n",
       "Unknown 51               0.004525\n",
       "Dark Not Lighted         0.004248\n",
       "Dark Unknown Lighting    0.000985\n",
       "51                       0.000739\n",
       "Name: Lightcondition, dtype: float64"
      ]
     },
     "execution_count": 525,
     "metadata": {},
     "output_type": "execute_result"
    }
   ],
   "source": [
    "cleanFinal['Lightcondition'].value_counts(normalize=True).head(50)\n"
   ]
  },
  {
   "cell_type": "code",
   "execution_count": 526,
   "id": "90d65ac6",
   "metadata": {
    "scrolled": true
   },
   "outputs": [
    {
     "data": {
      "text/plain": [
       "Rural Rd             0.112760\n",
       "Baseline Rd          0.096845\n",
       "University Dr        0.086286\n",
       "Broadway Rd          0.084347\n",
       "McClintock Dr        0.070155\n",
       "Southern Ave         0.064337\n",
       "Priest Dr            0.060397\n",
       "Mill Ave             0.057226\n",
       "Elliot Rd            0.036909\n",
       "Price Rd             0.032969\n",
       "Scottsdale Rd        0.031984\n",
       "Warner Rd            0.027890\n",
       "Apache Blvd          0.027613\n",
       "Rio Salado Pkwy      0.027213\n",
       "Guadalupe Rd         0.019948\n",
       "Mcclintock Dr        0.019024\n",
       "Kyrene Rd            0.015576\n",
       "Hardy Dr             0.015361\n",
       "48th St              0.013052\n",
       "5th St               0.004925\n",
       "College Ave          0.004217\n",
       "Curry Rd             0.004125\n",
       "52nd St              0.003940\n",
       "Ash Ave              0.003386\n",
       "Grove Pkwy           0.002863\n",
       "Washington St        0.002863\n",
       "Dorsey Ln            0.002771\n",
       "Roosevelt St         0.002340\n",
       "McKellips Rd         0.002216\n",
       "Ray Rd               0.002062\n",
       "Lemon St             0.001939\n",
       "Alameda Dr           0.001878\n",
       "Lakeshore Dr         0.001755\n",
       "6th St               0.001693\n",
       "Hayden Rd            0.001662\n",
       "Terrace Rd           0.001632\n",
       "Arizona Mills Cir    0.001385\n",
       "56th St              0.001354\n",
       "Farmer Ave           0.001262\n",
       "1st St               0.001201\n",
       "13th St              0.001201\n",
       "Country Club Way     0.001139\n",
       "McAllister Ave       0.001016\n",
       "8th St               0.000954\n",
       "Smith Rd             0.000924\n",
       "River Dr             0.000893\n",
       "7th St               0.000893\n",
       "Harl Ave             0.000862\n",
       "Fairmont Dr          0.000831\n",
       "Veterans Way         0.000800\n",
       "Name: StreetName, dtype: float64"
      ]
     },
     "execution_count": 526,
     "metadata": {},
     "output_type": "execute_result"
    }
   ],
   "source": [
    "cleanFinal['StreetName'].value_counts(normalize=True).head(50)"
   ]
  },
  {
   "cell_type": "code",
   "execution_count": 527,
   "id": "97d9883b",
   "metadata": {
    "scrolled": true
   },
   "outputs": [
    {
     "data": {
      "text/plain": [
       "Speed To Fast For Conditions                        0.301431\n",
       "Failed To Yield Right Of Way                        0.229244\n",
       "Unsafe Lane Change                                  0.082223\n",
       "Disregarded Traffic Signal                          0.073511\n",
       "Followed Too Closely                                0.072803\n",
       "Other                                               0.053779\n",
       "Unknown                                             0.047776\n",
       "Made Improper Turn                                  0.043128\n",
       "Inattention Distraction                             0.039649\n",
       "Failed To Keep In Proper Lane                       0.016561\n",
       "No Improper Action                                  0.012159\n",
       "Drove Rode In Opposing Traffic Lane                 0.009543\n",
       "Ran Stop Sign                                       0.004156\n",
       "Exceeded Lawful Speed                               0.003632\n",
       "Other Unsafe Passing                                0.003140\n",
       "Did Not Use Crosswalk                               0.002647\n",
       "Disregarded Pavement Markings                       0.001170\n",
       "Drove Left Of Center Line                           0.000954\n",
       "Knowingly Operated With Faulty Missing Equipment    0.000739\n",
       "Electronic Communications Device                    0.000493\n",
       "108                                                 0.000431\n",
       "Passed In No Passing Zone                           0.000369\n",
       "Aggressive Driving                                  0.000308\n",
       "109                                                 0.000062\n",
       "Wrong Way Driving                                   0.000062\n",
       "Walked On Wrong Side Of Road                        0.000031\n",
       "Name: Violation1_Drv1, dtype: float64"
      ]
     },
     "execution_count": 527,
     "metadata": {},
     "output_type": "execute_result"
    }
   ],
   "source": [
    "cleanFinal['Violation1_Drv1'].value_counts(normalize=True).head(50)"
   ]
  },
  {
   "cell_type": "code",
   "execution_count": 528,
   "id": "9f6890ca",
   "metadata": {
    "scrolled": false
   },
   "outputs": [
    {
     "data": {
      "text/plain": [
       "Rear End                                       0.407511\n",
       "Left Turn                                      0.219917\n",
       "ANGLE (Front To Side)(Other Than Left Turn)    0.146745\n",
       "Sideswipe Same Direction                       0.127720\n",
       "Angle - Other Than Left Turn 2                 0.035216\n",
       "Other                                          0.034847\n",
       "Head On                                        0.010774\n",
       "Sideswipe Opposite Direction                   0.005572\n",
       "Unknown                                        0.005079\n",
       "Rear To Side                                   0.003263\n",
       "U Turn                                         0.001447\n",
       "Rear To Rear                                   0.001170\n",
       "10                                             0.000739\n",
       "Name: Collisionmanner, dtype: float64"
      ]
     },
     "execution_count": 528,
     "metadata": {},
     "output_type": "execute_result"
    }
   ],
   "source": [
    "cleanFinal['Collisionmanner'].value_counts(normalize=True).head(30)"
   ]
  },
  {
   "cell_type": "markdown",
   "id": "d10c3b52",
   "metadata": {},
   "source": [
    "## Encoding the data for the first RF classification model"
   ]
  },
  {
   "cell_type": "code",
   "execution_count": 529,
   "id": "455a87cf",
   "metadata": {},
   "outputs": [],
   "source": [
    "#encoding our features, from categorical to discrete values w/ one hot encoding, for our first model\n",
    "#features being chosen from domain research\n",
    "x = ['Lightcondition', 'StreetName', 'Violation1_Drv1', 'Collisionmanner', 'Injuryseverity']\n",
    "features = cleanFinal[x]\n",
    "\n",
    "bad_labels = [\"Unknown 51\", \"51\", \"108\", \"109\", \"10\"]\n"
   ]
  },
  {
   "cell_type": "code",
   "execution_count": 530,
   "id": "0405d848",
   "metadata": {},
   "outputs": [
    {
     "data": {
      "text/plain": [
       "Daylight                 24566\n",
       "Dark Lighted              6271\n",
       "Dusk                      1056\n",
       "Dawn                       251\n",
       "Unknown 51                 147\n",
       "Dark Not Lighted           138\n",
       "Dark Unknown Lighting       32\n",
       "51                          24\n",
       "Name: Lightcondition, dtype: int64"
      ]
     },
     "execution_count": 530,
     "metadata": {},
     "output_type": "execute_result"
    }
   ],
   "source": [
    "features['Lightcondition'].value_counts().head(30)"
   ]
  },
  {
   "cell_type": "code",
   "execution_count": 531,
   "id": "540e05e6",
   "metadata": {},
   "outputs": [],
   "source": [
    "q = \"\"\"SELECT *\n",
    "    FROM features\n",
    "    WHERE Lightcondition != \"51\" AND\n",
    "    Lightcondition != \"Unknown 51\" AND\n",
    "    Violation1_Drv1 != \"108\" AND \n",
    "    Violation1_Drv1 != \"109\" AND\n",
    "    Violation1_Drv1 != \"Unknown\" AND \n",
    "    Violation1_Drv1 != \"OTHER\" AND\n",
    "    Collisionmanner != \"OTHER\" AND \n",
    "    Collisionmanner != \"Unknown\" AND\n",
    "    Collisionmanner != \"10\"\n",
    "    \"\"\"\n",
    "    \n",
    "features = (sqldf(q))"
   ]
  },
  {
   "cell_type": "code",
   "execution_count": 532,
   "id": "af83bc45",
   "metadata": {
    "scrolled": false
   },
   "outputs": [
    {
     "data": {
      "text/html": [
       "<div>\n",
       "<style scoped>\n",
       "    .dataframe tbody tr th:only-of-type {\n",
       "        vertical-align: middle;\n",
       "    }\n",
       "\n",
       "    .dataframe tbody tr th {\n",
       "        vertical-align: top;\n",
       "    }\n",
       "\n",
       "    .dataframe thead th {\n",
       "        text-align: right;\n",
       "    }\n",
       "</style>\n",
       "<table border=\"1\" class=\"dataframe\">\n",
       "  <thead>\n",
       "    <tr style=\"text-align: right;\">\n",
       "      <th></th>\n",
       "      <th>Lightcondition</th>\n",
       "      <th>StreetName</th>\n",
       "      <th>Violation1_Drv1</th>\n",
       "      <th>Collisionmanner</th>\n",
       "      <th>Injuryseverity</th>\n",
       "    </tr>\n",
       "  </thead>\n",
       "  <tbody>\n",
       "    <tr>\n",
       "      <th>0</th>\n",
       "      <td>Daylight</td>\n",
       "      <td>Mcclintock Dr</td>\n",
       "      <td>Speed To Fast For Conditions</td>\n",
       "      <td>Rear End</td>\n",
       "      <td>Non Incapacitating Injury</td>\n",
       "    </tr>\n",
       "    <tr>\n",
       "      <th>1</th>\n",
       "      <td>Daylight</td>\n",
       "      <td>Priest Dr</td>\n",
       "      <td>Unsafe Lane Change</td>\n",
       "      <td>Sideswipe Same Direction</td>\n",
       "      <td>No Injury</td>\n",
       "    </tr>\n",
       "    <tr>\n",
       "      <th>2</th>\n",
       "      <td>Daylight</td>\n",
       "      <td>Baseline Rd</td>\n",
       "      <td>Inattention Distraction</td>\n",
       "      <td>Rear End</td>\n",
       "      <td>No Injury</td>\n",
       "    </tr>\n",
       "    <tr>\n",
       "      <th>3</th>\n",
       "      <td>Daylight</td>\n",
       "      <td>Broadway Rd</td>\n",
       "      <td>Inattention Distraction</td>\n",
       "      <td>ANGLE (Front To Side)(Other Than Left Turn)</td>\n",
       "      <td>No Injury</td>\n",
       "    </tr>\n",
       "    <tr>\n",
       "      <th>4</th>\n",
       "      <td>Daylight</td>\n",
       "      <td>Priest Dr</td>\n",
       "      <td>Other</td>\n",
       "      <td>ANGLE (Front To Side)(Other Than Left Turn)</td>\n",
       "      <td>No Injury</td>\n",
       "    </tr>\n",
       "    <tr>\n",
       "      <th>...</th>\n",
       "      <td>...</td>\n",
       "      <td>...</td>\n",
       "      <td>...</td>\n",
       "      <td>...</td>\n",
       "      <td>...</td>\n",
       "    </tr>\n",
       "    <tr>\n",
       "      <th>30644</th>\n",
       "      <td>Dark Lighted</td>\n",
       "      <td>University Dr</td>\n",
       "      <td>Speed To Fast For Conditions</td>\n",
       "      <td>Rear End</td>\n",
       "      <td>No Injury</td>\n",
       "    </tr>\n",
       "    <tr>\n",
       "      <th>30645</th>\n",
       "      <td>Daylight</td>\n",
       "      <td>Rural Rd</td>\n",
       "      <td>Disregarded Traffic Signal</td>\n",
       "      <td>Angle - Other Than Left Turn 2</td>\n",
       "      <td>No Injury</td>\n",
       "    </tr>\n",
       "    <tr>\n",
       "      <th>30646</th>\n",
       "      <td>Daylight</td>\n",
       "      <td>Broadway Rd</td>\n",
       "      <td>Failed To Yield Right Of Way</td>\n",
       "      <td>Left Turn</td>\n",
       "      <td>Possible Injury</td>\n",
       "    </tr>\n",
       "    <tr>\n",
       "      <th>30647</th>\n",
       "      <td>Daylight</td>\n",
       "      <td>Rural Rd</td>\n",
       "      <td>Failed To Yield Right Of Way</td>\n",
       "      <td>U Turn</td>\n",
       "      <td>Suspected Minor Injury</td>\n",
       "    </tr>\n",
       "    <tr>\n",
       "      <th>30648</th>\n",
       "      <td>Dark Lighted</td>\n",
       "      <td>Rural Rd</td>\n",
       "      <td>Speed To Fast For Conditions</td>\n",
       "      <td>Rear End</td>\n",
       "      <td>Possible Injury</td>\n",
       "    </tr>\n",
       "  </tbody>\n",
       "</table>\n",
       "<p>30649 rows × 5 columns</p>\n",
       "</div>"
      ],
      "text/plain": [
       "      Lightcondition     StreetName               Violation1_Drv1  \\\n",
       "0           Daylight  Mcclintock Dr  Speed To Fast For Conditions   \n",
       "1           Daylight      Priest Dr            Unsafe Lane Change   \n",
       "2           Daylight    Baseline Rd       Inattention Distraction   \n",
       "3           Daylight    Broadway Rd       Inattention Distraction   \n",
       "4           Daylight      Priest Dr                         Other   \n",
       "...              ...            ...                           ...   \n",
       "30644   Dark Lighted  University Dr  Speed To Fast For Conditions   \n",
       "30645       Daylight       Rural Rd    Disregarded Traffic Signal   \n",
       "30646       Daylight    Broadway Rd  Failed To Yield Right Of Way   \n",
       "30647       Daylight       Rural Rd  Failed To Yield Right Of Way   \n",
       "30648   Dark Lighted       Rural Rd  Speed To Fast For Conditions   \n",
       "\n",
       "                                   Collisionmanner             Injuryseverity  \n",
       "0                                         Rear End  Non Incapacitating Injury  \n",
       "1                         Sideswipe Same Direction                  No Injury  \n",
       "2                                         Rear End                  No Injury  \n",
       "3      ANGLE (Front To Side)(Other Than Left Turn)                  No Injury  \n",
       "4      ANGLE (Front To Side)(Other Than Left Turn)                  No Injury  \n",
       "...                                            ...                        ...  \n",
       "30644                                     Rear End                  No Injury  \n",
       "30645               Angle - Other Than Left Turn 2                  No Injury  \n",
       "30646                                    Left Turn            Possible Injury  \n",
       "30647                                       U Turn     Suspected Minor Injury  \n",
       "30648                                     Rear End            Possible Injury  \n",
       "\n",
       "[30649 rows x 5 columns]"
      ]
     },
     "execution_count": 532,
     "metadata": {},
     "output_type": "execute_result"
    }
   ],
   "source": [
    "features"
   ]
  },
  {
   "cell_type": "code",
   "execution_count": 558,
   "id": "da230ffb",
   "metadata": {},
   "outputs": [],
   "source": [
    "#building out our classificaition model\n",
    "from sklearn.model_selection import train_test_split\n",
    "from sklearn.ensemble import RandomForestClassifier\n",
    "from sklearn.preprocessing import LabelEncoder\n",
    "from sklearn.metrics import confusion_matrix\n",
    "from sklearn.metrics import accuracy_score\n",
    "from sklearn.metrics import classification_report\n",
    "\n",
    "Y = features['Injuryseverity']\n",
    "X = pd.get_dummies(features[['Lightcondition','StreetName', 'Violation1_Drv1', 'Collisionmanner']], columns=['Lightcondition','StreetName', 'Violation1_Drv1', 'Collisionmanner' ])\n",
    "Y = pd.get_dummies(Y, columns=['Injuryseverity'])\n",
    "\n",
    "x_train, x_test, y_train, y_test= train_test_split(X, Y)\n",
    "\n",
    "classifier = RandomForestClassifier()\n",
    "classifier = classifier.fit(x_train, y_train)\n",
    "predicted = classifier.predict(x_test)"
   ]
  },
  {
   "cell_type": "code",
   "execution_count": 534,
   "id": "df109bd5",
   "metadata": {
    "scrolled": false
   },
   "outputs": [
    {
     "data": {
      "text/plain": [
       "0.6042020096567924"
      ]
     },
     "execution_count": 534,
     "metadata": {},
     "output_type": "execute_result"
    }
   ],
   "source": [
    "accuracy_score(y_test, predicted, normalize=True)"
   ]
  },
  {
   "cell_type": "code",
   "execution_count": 535,
   "id": "e716e2fe",
   "metadata": {
    "scrolled": true
   },
   "outputs": [
    {
     "data": {
      "text/plain": [
       "0.6414519257412026"
      ]
     },
     "execution_count": 535,
     "metadata": {},
     "output_type": "execute_result"
    }
   ],
   "source": [
    "sklearn.metrics.f1_score(y_test, predicted, average='micro')"
   ]
  },
  {
   "cell_type": "markdown",
   "id": "ecd5eae5",
   "metadata": {},
   "source": [
    "## Creating a second RF classification model with, chi square feature selection"
   ]
  },
  {
   "cell_type": "code",
   "execution_count": 711,
   "id": "72237fc1",
   "metadata": {},
   "outputs": [],
   "source": [
    "new_set = cleanFinal[['StreetName', 'CrossStreet', 'JunctionRelation',\n",
    "        'Collisionmanner', 'Lightcondition', 'Weather',\n",
    "       'SurfaceCondition', 'Unittype_One', 'Gender_Drv1',\n",
    "       'Traveldirection_One', 'Unitaction_One', 'Violation1_Drv1',\n",
    "       'AlcoholUse_Drv1', 'DrugUse_Drv1', 'Unittype_Two', 'Gender_Drv2',\n",
    "       'Traveldirection_Two', 'Unitaction_Two', 'Violation1_Drv2',\n",
    "       'AlcoholUse_Drv2', 'DrugUse_Drv2']]\n",
    "\n",
    "q2 = \"\"\"SELECT *\n",
    "    FROM new_set\n",
    "    WHERE Lightcondition != \"51\" AND\n",
    "    Lightcondition != \"Unknown 51\" AND\n",
    "    Violation1_Drv1 != \"108\" AND \n",
    "    Violation1_Drv1 != \"109\" AND\n",
    "    Violation1_Drv1 != \"Unknown\" AND \n",
    "    Violation1_Drv1 != \"OTHER\" AND\n",
    "    Collisionmanner != \"OTHER\" AND \n",
    "    Collisionmanner != \"Unknown\" AND\n",
    "    Collisionmanner != \"10\"\n",
    "    \"\"\"\n",
    "\n",
    "X = sqldf(q2)\n",
    "Y = features['Injuryseverity']\n",
    "\n",
    "X = pd.get_dummies(X, columns = ['StreetName', 'CrossStreet', 'JunctionRelation',\n",
    "        'Collisionmanner', 'Lightcondition', 'Weather',\n",
    "       'SurfaceCondition', 'Unittype_One', 'Gender_Drv1',\n",
    "       'Traveldirection_One', 'Unitaction_One', 'Violation1_Drv1',\n",
    "       'AlcoholUse_Drv1', 'DrugUse_Drv1', 'Unittype_Two', 'Gender_Drv2',\n",
    "       'Traveldirection_Two', 'Unitaction_Two', 'Violation1_Drv2',\n",
    "       'AlcoholUse_Drv2', 'DrugUse_Drv2'])\n",
    "Y = pd.get_dummies(Y, columns = ['Injuryseverity'])\n",
    "X, y = X, Y\n",
    "\n"
   ]
  },
  {
   "cell_type": "code",
   "execution_count": 712,
   "id": "398738b1",
   "metadata": {},
   "outputs": [
    {
     "data": {
      "text/html": [
       "<div>\n",
       "<style scoped>\n",
       "    .dataframe tbody tr th:only-of-type {\n",
       "        vertical-align: middle;\n",
       "    }\n",
       "\n",
       "    .dataframe tbody tr th {\n",
       "        vertical-align: top;\n",
       "    }\n",
       "\n",
       "    .dataframe thead th {\n",
       "        text-align: right;\n",
       "    }\n",
       "</style>\n",
       "<table border=\"1\" class=\"dataframe\">\n",
       "  <thead>\n",
       "    <tr style=\"text-align: right;\">\n",
       "      <th></th>\n",
       "      <th>JunctionRelation_Intersection 4 Way 202</th>\n",
       "      <th>Collisionmanner_Angle - Other Than Left Turn 2</th>\n",
       "      <th>Unittype_One_Pedestrian</th>\n",
       "      <th>Unitaction_One_Crossing Road</th>\n",
       "    </tr>\n",
       "  </thead>\n",
       "  <tbody>\n",
       "    <tr>\n",
       "      <th>0</th>\n",
       "      <td>0</td>\n",
       "      <td>0</td>\n",
       "      <td>0</td>\n",
       "      <td>0</td>\n",
       "    </tr>\n",
       "    <tr>\n",
       "      <th>1</th>\n",
       "      <td>0</td>\n",
       "      <td>0</td>\n",
       "      <td>0</td>\n",
       "      <td>0</td>\n",
       "    </tr>\n",
       "    <tr>\n",
       "      <th>2</th>\n",
       "      <td>0</td>\n",
       "      <td>0</td>\n",
       "      <td>0</td>\n",
       "      <td>0</td>\n",
       "    </tr>\n",
       "    <tr>\n",
       "      <th>3</th>\n",
       "      <td>0</td>\n",
       "      <td>0</td>\n",
       "      <td>0</td>\n",
       "      <td>0</td>\n",
       "    </tr>\n",
       "    <tr>\n",
       "      <th>4</th>\n",
       "      <td>0</td>\n",
       "      <td>0</td>\n",
       "      <td>0</td>\n",
       "      <td>0</td>\n",
       "    </tr>\n",
       "    <tr>\n",
       "      <th>...</th>\n",
       "      <td>...</td>\n",
       "      <td>...</td>\n",
       "      <td>...</td>\n",
       "      <td>...</td>\n",
       "    </tr>\n",
       "    <tr>\n",
       "      <th>30644</th>\n",
       "      <td>0</td>\n",
       "      <td>0</td>\n",
       "      <td>0</td>\n",
       "      <td>0</td>\n",
       "    </tr>\n",
       "    <tr>\n",
       "      <th>30645</th>\n",
       "      <td>1</td>\n",
       "      <td>1</td>\n",
       "      <td>0</td>\n",
       "      <td>0</td>\n",
       "    </tr>\n",
       "    <tr>\n",
       "      <th>30646</th>\n",
       "      <td>1</td>\n",
       "      <td>0</td>\n",
       "      <td>0</td>\n",
       "      <td>0</td>\n",
       "    </tr>\n",
       "    <tr>\n",
       "      <th>30647</th>\n",
       "      <td>0</td>\n",
       "      <td>0</td>\n",
       "      <td>0</td>\n",
       "      <td>0</td>\n",
       "    </tr>\n",
       "    <tr>\n",
       "      <th>30648</th>\n",
       "      <td>0</td>\n",
       "      <td>0</td>\n",
       "      <td>0</td>\n",
       "      <td>0</td>\n",
       "    </tr>\n",
       "  </tbody>\n",
       "</table>\n",
       "<p>30649 rows × 4 columns</p>\n",
       "</div>"
      ],
      "text/plain": [
       "       JunctionRelation_Intersection 4 Way 202  \\\n",
       "0                                            0   \n",
       "1                                            0   \n",
       "2                                            0   \n",
       "3                                            0   \n",
       "4                                            0   \n",
       "...                                        ...   \n",
       "30644                                        0   \n",
       "30645                                        1   \n",
       "30646                                        1   \n",
       "30647                                        0   \n",
       "30648                                        0   \n",
       "\n",
       "       Collisionmanner_Angle - Other Than Left Turn 2  \\\n",
       "0                                                   0   \n",
       "1                                                   0   \n",
       "2                                                   0   \n",
       "3                                                   0   \n",
       "4                                                   0   \n",
       "...                                               ...   \n",
       "30644                                               0   \n",
       "30645                                               1   \n",
       "30646                                               0   \n",
       "30647                                               0   \n",
       "30648                                               0   \n",
       "\n",
       "       Unittype_One_Pedestrian  Unitaction_One_Crossing Road  \n",
       "0                            0                             0  \n",
       "1                            0                             0  \n",
       "2                            0                             0  \n",
       "3                            0                             0  \n",
       "4                            0                             0  \n",
       "...                        ...                           ...  \n",
       "30644                        0                             0  \n",
       "30645                        0                             0  \n",
       "30646                        0                             0  \n",
       "30647                        0                             0  \n",
       "30648                        0                             0  \n",
       "\n",
       "[30649 rows x 4 columns]"
      ]
     },
     "execution_count": 712,
     "metadata": {},
     "output_type": "execute_result"
    }
   ],
   "source": [
    "#Feature Engineering, with the 4 'best' categorical variables\n",
    "selector = SelectKBest(chi2, k=4)\n",
    "new = selector.fit_transform(X, y)\n",
    "\n",
    "cols = selector.get_support(indices=True)\n",
    "\n",
    "X = pd.DataFrame(data=X)\n",
    "\n",
    "features_df_new = X.iloc[:,cols]\n",
    "features_df_new"
   ]
  },
  {
   "cell_type": "code",
   "execution_count": 713,
   "id": "93782864",
   "metadata": {},
   "outputs": [],
   "source": [
    "#creating our new model\n",
    "X = new\n",
    "x_train, x_test, y_train, y_test= train_test_split(X, Y)\n",
    "classifier = classifier.fit(x_train, y_train)\n",
    "predicted = classifier.predict(x_test)"
   ]
  },
  {
   "cell_type": "code",
   "execution_count": 714,
   "id": "d9b364b1",
   "metadata": {},
   "outputs": [
    {
     "data": {
      "text/plain": [
       "0.6616207751533342"
      ]
     },
     "execution_count": 714,
     "metadata": {},
     "output_type": "execute_result"
    }
   ],
   "source": [
    "#accuracy score\n",
    "accuracy_score(y_test, predicted, normalize=True)"
   ]
  },
  {
   "cell_type": "code",
   "execution_count": 715,
   "id": "b2b9b15b",
   "metadata": {},
   "outputs": [
    {
     "data": {
      "text/plain": [
       "0.6676323413220964"
      ]
     },
     "execution_count": 715,
     "metadata": {},
     "output_type": "execute_result"
    }
   ],
   "source": [
    "#f1 score\n",
    "sklearn.metrics.f1_score(y_test, predicted, average='micro')"
   ]
  },
  {
   "cell_type": "code",
   "execution_count": 716,
   "id": "f092b374",
   "metadata": {},
   "outputs": [
    {
     "data": {
      "text/plain": [
       "0.6737541528239203"
      ]
     },
     "execution_count": 716,
     "metadata": {},
     "output_type": "execute_result"
    }
   ],
   "source": [
    "#precision score\n",
    "sklearn.metrics.precision_score(y_test, predicted, average='micro')"
   ]
  }
 ],
 "metadata": {
  "kernelspec": {
   "display_name": "Python 3 (ipykernel)",
   "language": "python",
   "name": "python3"
  },
  "language_info": {
   "codemirror_mode": {
    "name": "ipython",
    "version": 3
   },
   "file_extension": ".py",
   "mimetype": "text/x-python",
   "name": "python",
   "nbconvert_exporter": "python",
   "pygments_lexer": "ipython3",
   "version": "3.9.6"
  }
 },
 "nbformat": 4,
 "nbformat_minor": 5
}
